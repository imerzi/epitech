{
 "cells": [
  {
   "cell_type": "code",
   "execution_count": 1,
   "metadata": {},
   "outputs": [],
   "source": [
    "import numpy as np #linear algebra"
   ]
  },
  {
   "cell_type": "code",
   "execution_count": 2,
   "metadata": {},
   "outputs": [],
   "source": [
    "#Input Data\n",
    "input_data = np.array([[0, 0, 1], [1, 1, 1], [1, 0, 1], [0, 1, 1]])\n",
    "output_labels = np.array([[0, 1, 1, 0]]).T"
   ]
  },
  {
   "cell_type": "code",
   "execution_count": 3,
   "metadata": {},
   "outputs": [
    {
     "name": "stdout",
     "output_type": "stream",
     "text": [
      "[[0 0 1]\n",
      " [1 1 1]\n",
      " [1 0 1]\n",
      " [0 1 1]]\n",
      "[[0]\n",
      " [1]\n",
      " [1]\n",
      " [0]]\n"
     ]
    }
   ],
   "source": [
    "print(input_data)\n",
    "print(output_labels)"
   ]
  },
  {
   "cell_type": "code",
   "execution_count": 4,
   "metadata": {},
   "outputs": [],
   "source": [
    "def activate(x, deriv=False):\n",
    "    if (deriv==True):\n",
    "        return(x*(1-x))\n",
    "    return 1/(1+np.exp(-x))"
   ]
  },
  {
   "cell_type": "code",
   "execution_count": 5,
   "metadata": {},
   "outputs": [
    {
     "name": "stdout",
     "output_type": "stream",
     "text": [
      "[[-0.37680614]\n",
      " [-0.37488565]\n",
      " [ 0.4528899 ]]\n"
     ]
    }
   ],
   "source": [
    "#weight matrix\n",
    "synaptic_weights = 2 * np.random.random((3, 1)) - 1\n",
    "\n",
    "print(synaptic_weights)"
   ]
  },
  {
   "cell_type": "code",
   "execution_count": 6,
   "metadata": {},
   "outputs": [
    {
     "data": {
      "text/plain": [
       "array([[ 0.61132611],\n",
       "       [ 0.4258504 ],\n",
       "       [ 0.51901177],\n",
       "       [ 0.51949118]])"
      ]
     },
     "execution_count": 6,
     "metadata": {},
     "output_type": "execute_result"
    }
   ],
   "source": [
    "output = activate(np.dot(input_data, synaptic_weights))\n",
    "\n",
    "##This is our first guess\n",
    "output"
   ]
  },
  {
   "cell_type": "code",
   "execution_count": 7,
   "metadata": {
    "collapsed": true
   },
   "outputs": [],
   "source": [
    "error = output_labels - output"
   ]
  },
  {
   "cell_type": "code",
   "execution_count": 8,
   "metadata": {
    "collapsed": true
   },
   "outputs": [],
   "source": [
    "#example of iteration of training\n",
    "for iteration in range(10000):\n",
    "    output = activate(np.dot(input_data, synaptic_weights))\n",
    "    error = output_labels - output\n",
    "    synaptic_weights += np.dot(input_data.T, error * activate(output, True))"
   ]
  },
  {
   "cell_type": "code",
   "execution_count": 9,
   "metadata": {},
   "outputs": [
    {
     "name": "stdout",
     "output_type": "stream",
     "text": [
      "[ 0.99993702]\n"
     ]
    }
   ],
   "source": [
    "#testing example\n",
    "print(activate(np.dot(np.array([1, 0, 0]), synaptic_weights)))\n",
    "#Will be approximetly 1 which is close to the 1st element"
   ]
  },
  {
   "cell_type": "code",
   "execution_count": 10,
   "metadata": {
    "collapsed": true
   },
   "outputs": [],
   "source": [
    "#2 weight values, 1 for each output layer that is used as an input layer in the neural network\n",
    "synaptic_weight_for_layer_0 = 2*np.random.random((3, 4)) - 1\n",
    "synaptic_weight_for_layer_1 = 2*np.random.random((4, 1)) - 1"
   ]
  },
  {
   "cell_type": "code",
   "execution_count": 11,
   "metadata": {},
   "outputs": [
    {
     "name": "stdout",
     "output_type": "stream",
     "text": [
      "[[-0.85420555  0.76311662  0.99509773  0.01521023]\n",
      " [ 0.24173397 -0.59290597 -0.0744871   0.25204814]\n",
      " [ 0.82398167  0.52115678 -0.39260628  0.80329656]]\n",
      "[[ 0.42722431]\n",
      " [-0.03774017]\n",
      " [-0.6744803 ]\n",
      " [ 0.26635957]]\n"
     ]
    }
   ],
   "source": [
    "print(synaptic_weight_for_layer_0)\n",
    "print(synaptic_weight_for_layer_1)"
   ]
  },
  {
   "cell_type": "code",
   "execution_count": 12,
   "metadata": {
    "scrolled": true
   },
   "outputs": [
    {
     "name": "stdout",
     "output_type": "stream",
     "text": [
      "Error: 0.531632051031\n",
      "Error: 0.00505037626601\n",
      "Error: 0.00348840629507\n",
      "Error: 0.00281485397125\n",
      "Error: 0.00241907662083\n",
      "Error: 0.00215157617252\n",
      "Error: 0.00195552338178\n",
      "Error: 0.00180400823738\n",
      "Error: 0.00168243910775\n",
      "Error: 0.00158213391759\n"
     ]
    }
   ],
   "source": [
    "#Real Training!\n",
    "for j in range(100000):\n",
    "    \n",
    "    #Forward Propagation through the network layers 0, 1, & 2\n",
    "    network_layer_0 = input_data\n",
    "    # 4, 3\n",
    "    network_layer_1 = activate(np.dot(network_layer_0, synaptic_weight_for_layer_0))\n",
    "    #4, 4                                #4,3               #3,4\n",
    "    network_layer_2 = activate(np.dot(network_layer_1, synaptic_weight_for_layer_1))\n",
    "    #4,1                                 #4,4               #4,1\n",
    "    \n",
    "    #calculate the error for network_layer_2\n",
    "    network_layer_2_error = output_labels - network_layer_2\n",
    "    #4,1                        #4,1            #4,1\n",
    "    \n",
    "    if j % 10000 == 0:\n",
    "        print(\"Error: \" + str(np.mean(np.abs(network_layer_2_error))))\n",
    "        \n",
    "    #Use the network_layer_2_error to compute the gradient to start backpropagation\n",
    "    layer_2_gradient = network_layer_2_error * activate(network_layer_2, deriv=True)\n",
    "    #4,1                    #4,1                  #4,1\n",
    "    \n",
    "    #calculate the error for network_layer_1\n",
    "    network_layer_1_error = layer_2_gradient.dot(synaptic_weight_for_layer_1.T)\n",
    "    #4,4                      #4,1                  #1,4\n",
    "    \n",
    "    #Use the network_layer_1_error to compute the gradient for network_layer_1\n",
    "    layer_1_gradient = network_layer_1_error * activate(network_layer_1, deriv=True)\n",
    "    #4,4                  #4,4                      #4,4\n",
    "    \n",
    "    #Update the synaptic weights using the gradients\n",
    "    synaptic_weight_for_layer_1 += network_layer_1.T.dot(layer_2_gradient)\n",
    "    #4,1                              #4,4                 #4,1\n",
    "    synaptic_weight_for_layer_0 += network_layer_0.T.dot(layer_1_gradient)\n",
    "    #3,4                              #4,3                 #4,4\n",
    "    "
   ]
  },
  {
   "cell_type": "code",
   "execution_count": 51,
   "metadata": {},
   "outputs": [
    {
     "name": "stdout",
     "output_type": "stream",
     "text": [
      "Error: 0.50308912846\n",
      "Error: 0.00460415404965\n",
      "Error: 0.00317985865615\n",
      "Error: 0.00256693045279\n",
      "Error: 0.0022068654229\n",
      "Error: 0.00196347469691\n",
      "Error: 0.00178505381013\n",
      "Error: 0.00164713202629\n",
      "Error: 0.00153644312365\n",
      "Error: 0.00144509411104\n"
     ]
    }
   ],
   "source": [
    "synaptic_weight_for_layer_0 = 2*np.random.random((3, 4)) - 1\n",
    "synaptic_weight_for_layer_1 = 2*np.random.random((4, 4)) - 1\n",
    "synaptic_weight_for_layer_2 = 2*np.random.random((4, 1)) - 1\n",
    "#Real Training!\n",
    "for j in range(100000):\n",
    "    \n",
    "    #Forward Propagation through the network layers 0, 1, & 2\n",
    "    network_layer_0 = input_data\n",
    "            # 4, 3\n",
    "    network_layer_1 = activate(np.dot(network_layer_0, synaptic_weight_for_layer_0))\n",
    "            #4,4           #             4,3              3, 4   \n",
    "    network_layer_2 = activate(np.dot(network_layer_1, synaptic_weight_for_layer_1))\n",
    "            #4, 4            #              4, 4             5, 4  \n",
    "    network_layer_3 = activate(np.dot(network_layer_2, synaptic_weight_for_layer_2))\n",
    "             #4, 1          #               4 ,  4             4, 1\n",
    "    \n",
    "    network_layer_3_error = output_labels - network_layer_3\n",
    "    \n",
    "    layer_3_gradient = network_layer_3_error * activate(network_layer_3, deriv=True)\n",
    "    \n",
    "    #calculate the error for network_layer_2\n",
    "    network_layer_2_error = layer_3_gradient.dot(synaptic_weight_for_layer_2.T)\n",
    "    \n",
    "    if j % 10000 == 0:\n",
    "        print(\"Error: \" + str(np.mean(np.abs(network_layer_3_error))))\n",
    "        \n",
    "    #Use the network_layer_2_error to compute the gradient to start backpropagation\n",
    "    layer_2_gradient = network_layer_2_error * activate(network_layer_2, deriv=True)\n",
    "    \n",
    "    #calculate the error for network_layer_1\n",
    "    network_layer_1_error = layer_2_gradient.dot(synaptic_weight_for_layer_1.T)\n",
    "    \n",
    "    #Use the network_layer_1_error to compute the gradient for network_layer_1\n",
    "    layer_1_gradient = network_layer_1_error * activate(network_layer_1, deriv=True)\n",
    "    \n",
    "    #Update the synaptic weights using the gradients\n",
    "    synaptic_weight_for_layer_2 += network_layer_2.T.dot(layer_3_gradient)\n",
    "    synaptic_weight_for_layer_1 += network_layer_1.T.dot(layer_2_gradient)\n",
    "    synaptic_weight_for_layer_0 += network_layer_0.T.dot(layer_1_gradient)\n",
    "    \n",
    "    "
   ]
  },
  {
   "cell_type": "code",
   "execution_count": 41,
   "metadata": {},
   "outputs": [
    {
     "name": "stdout",
     "output_type": "stream",
     "text": [
      "[-2.58362455 -1.48740034 -1.99122825  1.44716657 -2.19739673]\n"
     ]
    }
   ],
   "source": [
    "# Real testing!\n",
    "print(np.dot(np.array([0, 0, 1]), synaptic_weight_for_layer_0))"
   ]
  },
  {
   "cell_type": "code",
   "execution_count": 28,
   "metadata": {},
   "outputs": [
    {
     "data": {
      "text/plain": [
       "array([[ 0.00679732],\n",
       "       [ 0.99445537],\n",
       "       [ 0.99548489],\n",
       "       [ 0.0055365 ]])"
      ]
     },
     "execution_count": 28,
     "metadata": {},
     "output_type": "execute_result"
    }
   ],
   "source": [
    "# Real testing!\n",
    "input_data2 = np.array([[0, 0, 1], [1, 1, 1], [1, 0, 1], [0, 1, 1]])\n",
    "output = activate(np.dot(input_data2, synaptic_weights))\n",
    "output"
   ]
  },
  {
   "cell_type": "code",
   "execution_count": 39,
   "metadata": {},
   "outputs": [],
   "source": [
    "# Real testing!\n",
    "network_layer_0 = input_data\n",
    "network_layer_1 = activate(np.dot(network_layer_0, synaptic_weight_for_layer_0))\n",
    "network_layer_2 = activate(np.dot(network_layer_1, synaptic_weight_for_layer_1))"
   ]
  },
  {
   "cell_type": "code",
   "execution_count": 45,
   "metadata": {},
   "outputs": [
    {
     "data": {
      "text/plain": [
       "array([[  6.12078124e-04],\n",
       "       [  9.99378126e-01],\n",
       "       [  9.99463151e-01],\n",
       "       [  4.70690577e-04]])"
      ]
     },
     "execution_count": 45,
     "metadata": {},
     "output_type": "execute_result"
    }
   ],
   "source": [
    "network_layer_2"
   ]
  }
 ],
 "metadata": {
  "kernelspec": {
   "display_name": "Python 3",
   "language": "python",
   "name": "python3"
  },
  "language_info": {
   "codemirror_mode": {
    "name": "ipython",
    "version": 3
   },
   "file_extension": ".py",
   "mimetype": "text/x-python",
   "name": "python",
   "nbconvert_exporter": "python",
   "pygments_lexer": "ipython3",
   "version": "3.6.1"
  }
 },
 "nbformat": 4,
 "nbformat_minor": 2
}
